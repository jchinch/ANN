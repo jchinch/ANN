{
 "cells": [
  {
   "cell_type": "code",
   "execution_count": 1,
   "metadata": {},
   "outputs": [],
   "source": [
    "import pandas as pd\n",
    "import numpy as np\n",
    "import matplotlib.pyplot as plt\n",
    "import seaborn as sns\n",
    "from sklearn.neural_network import MLPRegressor\n",
    "from sklearn.model_selection import cross_val_score\n",
    "from sklearn.model_selection import GridSearchCV\n",
    "from sklearn.metrics import mean_squared_error"
   ]
  },
  {
   "cell_type": "code",
   "execution_count": 2,
   "metadata": {},
   "outputs": [
    {
     "data": {
      "text/html": [
       "<div>\n",
       "<style scoped>\n",
       "    .dataframe tbody tr th:only-of-type {\n",
       "        vertical-align: middle;\n",
       "    }\n",
       "\n",
       "    .dataframe tbody tr th {\n",
       "        vertical-align: top;\n",
       "    }\n",
       "\n",
       "    .dataframe thead th {\n",
       "        text-align: right;\n",
       "    }\n",
       "</style>\n",
       "<table border=\"1\" class=\"dataframe\">\n",
       "  <thead>\n",
       "    <tr style=\"text-align: right;\">\n",
       "      <th></th>\n",
       "      <th>X1</th>\n",
       "      <th>X2</th>\n",
       "      <th>X3</th>\n",
       "      <th>X4</th>\n",
       "      <th>X5</th>\n",
       "      <th>Y</th>\n",
       "    </tr>\n",
       "  </thead>\n",
       "  <tbody>\n",
       "    <tr>\n",
       "      <th>0</th>\n",
       "      <td>13.233</td>\n",
       "      <td>38.320</td>\n",
       "      <td>55.618</td>\n",
       "      <td>91.466</td>\n",
       "      <td>106.030</td>\n",
       "      <td>1770.2</td>\n",
       "    </tr>\n",
       "    <tr>\n",
       "      <th>1</th>\n",
       "      <td>28.070</td>\n",
       "      <td>32.545</td>\n",
       "      <td>59.518</td>\n",
       "      <td>91.489</td>\n",
       "      <td>110.270</td>\n",
       "      <td>1928.1</td>\n",
       "    </tr>\n",
       "    <tr>\n",
       "      <th>2</th>\n",
       "      <td>28.240</td>\n",
       "      <td>34.104</td>\n",
       "      <td>57.003</td>\n",
       "      <td>85.282</td>\n",
       "      <td>109.090</td>\n",
       "      <td>1870.0</td>\n",
       "    </tr>\n",
       "    <tr>\n",
       "      <th>3</th>\n",
       "      <td>16.742</td>\n",
       "      <td>34.120</td>\n",
       "      <td>59.946</td>\n",
       "      <td>82.766</td>\n",
       "      <td>93.893</td>\n",
       "      <td>1625.6</td>\n",
       "    </tr>\n",
       "    <tr>\n",
       "      <th>4</th>\n",
       "      <td>17.225</td>\n",
       "      <td>21.305</td>\n",
       "      <td>53.570</td>\n",
       "      <td>94.055</td>\n",
       "      <td>103.480</td>\n",
       "      <td>1718.2</td>\n",
       "    </tr>\n",
       "  </tbody>\n",
       "</table>\n",
       "</div>"
      ],
      "text/plain": [
       "       X1      X2      X3      X4       X5       Y\n",
       "0  13.233  38.320  55.618  91.466  106.030  1770.2\n",
       "1  28.070  32.545  59.518  91.489  110.270  1928.1\n",
       "2  28.240  34.104  57.003  85.282  109.090  1870.0\n",
       "3  16.742  34.120  59.946  82.766   93.893  1625.6\n",
       "4  17.225  21.305  53.570  94.055  103.480  1718.2"
      ]
     },
     "execution_count": 2,
     "metadata": {},
     "output_type": "execute_result"
    }
   ],
   "source": [
    "## Reading the input data\n",
    "data = pd.read_csv('3.csv')\n",
    "data.head()"
   ]
  },
  {
   "cell_type": "code",
   "execution_count": 3,
   "metadata": {},
   "outputs": [
    {
     "data": {
      "text/html": [
       "<div>\n",
       "<style scoped>\n",
       "    .dataframe tbody tr th:only-of-type {\n",
       "        vertical-align: middle;\n",
       "    }\n",
       "\n",
       "    .dataframe tbody tr th {\n",
       "        vertical-align: top;\n",
       "    }\n",
       "\n",
       "    .dataframe thead th {\n",
       "        text-align: right;\n",
       "    }\n",
       "</style>\n",
       "<table border=\"1\" class=\"dataframe\">\n",
       "  <thead>\n",
       "    <tr style=\"text-align: right;\">\n",
       "      <th></th>\n",
       "      <th>X1</th>\n",
       "      <th>X2</th>\n",
       "      <th>X3</th>\n",
       "      <th>X4</th>\n",
       "      <th>X5</th>\n",
       "    </tr>\n",
       "  </thead>\n",
       "  <tbody>\n",
       "    <tr>\n",
       "      <th>0</th>\n",
       "      <td>13.233</td>\n",
       "      <td>38.320</td>\n",
       "      <td>55.618</td>\n",
       "      <td>91.466</td>\n",
       "      <td>106.030</td>\n",
       "    </tr>\n",
       "    <tr>\n",
       "      <th>1</th>\n",
       "      <td>28.070</td>\n",
       "      <td>32.545</td>\n",
       "      <td>59.518</td>\n",
       "      <td>91.489</td>\n",
       "      <td>110.270</td>\n",
       "    </tr>\n",
       "    <tr>\n",
       "      <th>2</th>\n",
       "      <td>28.240</td>\n",
       "      <td>34.104</td>\n",
       "      <td>57.003</td>\n",
       "      <td>85.282</td>\n",
       "      <td>109.090</td>\n",
       "    </tr>\n",
       "    <tr>\n",
       "      <th>3</th>\n",
       "      <td>16.742</td>\n",
       "      <td>34.120</td>\n",
       "      <td>59.946</td>\n",
       "      <td>82.766</td>\n",
       "      <td>93.893</td>\n",
       "    </tr>\n",
       "    <tr>\n",
       "      <th>4</th>\n",
       "      <td>17.225</td>\n",
       "      <td>21.305</td>\n",
       "      <td>53.570</td>\n",
       "      <td>94.055</td>\n",
       "      <td>103.480</td>\n",
       "    </tr>\n",
       "  </tbody>\n",
       "</table>\n",
       "</div>"
      ],
      "text/plain": [
       "       X1      X2      X3      X4       X5\n",
       "0  13.233  38.320  55.618  91.466  106.030\n",
       "1  28.070  32.545  59.518  91.489  110.270\n",
       "2  28.240  34.104  57.003  85.282  109.090\n",
       "3  16.742  34.120  59.946  82.766   93.893\n",
       "4  17.225  21.305  53.570  94.055  103.480"
      ]
     },
     "execution_count": 3,
     "metadata": {},
     "output_type": "execute_result"
    }
   ],
   "source": [
    "## Reading the input variable data\n",
    "X = data[['X1','X2','X3','X4','X5']]\n",
    "X.head()"
   ]
  },
  {
   "cell_type": "code",
   "execution_count": 4,
   "metadata": {},
   "outputs": [
    {
     "data": {
      "text/plain": [
       "0    1770.2\n",
       "1    1928.1\n",
       "2    1870.0\n",
       "3    1625.6\n",
       "4    1718.2\n",
       "Name: Y, dtype: float64"
      ]
     },
     "execution_count": 4,
     "metadata": {},
     "output_type": "execute_result"
    }
   ],
   "source": [
    "## Reading the output data\n",
    "Y = data['Y']\n",
    "Y.head()"
   ]
  },
  {
   "cell_type": "code",
   "execution_count": 5,
   "metadata": {},
   "outputs": [
    {
     "data": {
      "text/plain": [
       "((2000, 5), (300, 5))"
      ]
     },
     "execution_count": 5,
     "metadata": {},
     "output_type": "execute_result"
    }
   ],
   "source": [
    "## Generating training and testing data\n",
    "X_train, X_test = X[:2000].to_numpy(), X[2000:].to_numpy()\n",
    "y_train, y_test = Y[:2000].to_numpy(), Y[2000:].to_numpy()\n",
    "y_train = y_train.astype('int')\n",
    "X_train.shape, X_test.shape"
   ]
  },
  {
   "cell_type": "code",
   "execution_count": 11,
   "metadata": {},
   "outputs": [
    {
     "name": "stdout",
     "output_type": "stream",
     "text": [
      "Fitting 3 folds for each of 225 candidates, totalling 675 fits\n"
     ]
    },
    {
     "name": "stderr",
     "output_type": "stream",
     "text": [
      "[Parallel(n_jobs=-1)]: Using backend LokyBackend with 12 concurrent workers.\n",
      "[Parallel(n_jobs=-1)]: Done  48 tasks      | elapsed:    8.0s\n",
      "[Parallel(n_jobs=-1)]: Done 138 tasks      | elapsed:   19.3s\n",
      "[Parallel(n_jobs=-1)]: Done 264 tasks      | elapsed:   35.4s\n",
      "[Parallel(n_jobs=-1)]: Done 426 tasks      | elapsed:   60.0s\n",
      "[Parallel(n_jobs=-1)]: Done 624 tasks      | elapsed:  1.5min\n",
      "[Parallel(n_jobs=-1)]: Done 675 out of 675 | elapsed:  1.6min finished\n"
     ]
    },
    {
     "name": "stdout",
     "output_type": "stream",
     "text": [
      "Best score for single layer ANN 0.9731056362629437\n",
      "Best parameters for single layer ANN {'activation': 'relu', 'alpha': 5e-05, 'early_stopping': True, 'hidden_layer_sizes': 9, 'learning_rate': 'constant', 'learning_rate_init': 0.01, 'max_iter': 500, 'solver': 'adam'}\n",
      "Single layer Neural Network MAE for= 120.40363198531907\n"
     ]
    }
   ],
   "source": [
    "## Generating single layer grid-search model to find best parameters. Calculating best parameters, loss and \n",
    "## training the model on train data with calculated the best parameters\n",
    "one_layer = [i for i in range(1,10)]\n",
    "parameter_space = { \"hidden_layer_sizes\": one_layer, \n",
    "                   \"activation\": [\"relu\"], \n",
    "                   \"solver\": [\"adam\"],\n",
    "                   \"alpha\": [0.00005, 0.0005, 0.005, 0.05, 0.5],\n",
    "                   \"learning_rate\": [\"constant\"],\n",
    "                   \"max_iter\": [500],\n",
    "                   \"learning_rate_init\": [0.00001, 0.0001, 0.001, 0.01, 0.1],\n",
    "                   \"early_stopping\":[True]\n",
    "                  }\n",
    "grid = GridSearchCV(MLPRegressor(random_state=3), parameter_space, verbose = 5, cv = 3, n_jobs=-1)\n",
    "grid.fit(X_train, y_train)\n",
    "\n",
    "print(\"Best score for single layer ANN\", grid.best_score_)\n",
    "print(\"Best parameters for single layer ANN\", grid.best_params_)\n",
    "\n",
    "single_layer_mlp = MLPRegressor(**grid.best_params_)\n",
    "single_layer_mlp.fit(X_train, y_train)\n",
    "print(\"Single layer Neural Network MAE for=\", single_layer_mlp.loss_)\n",
    "single_layer_train_loss = single_layer_mlp.loss_\n",
    "y_pred = single_layer_mlp.predict(X_test)\n"
   ]
  },
  {
   "cell_type": "code",
   "execution_count": 7,
   "metadata": {},
   "outputs": [
    {
     "name": "stdout",
     "output_type": "stream",
     "text": [
      "SSE for single layer ANN 62215.05488220717\n"
     ]
    }
   ],
   "source": [
    "## Calculated SSE for single layer ANN.\n",
    "single_layer_best_score = grid.best_score_\n",
    "single_layer_error = np.sum((y_pred - y_test)**2)\n",
    "print(\"SSE for single layer ANN\", single_layer_error)"
   ]
  },
  {
   "cell_type": "code",
   "execution_count": 10,
   "metadata": {},
   "outputs": [
    {
     "name": "stdout",
     "output_type": "stream",
     "text": [
      "Fitting 3 folds for each of 2025 candidates, totalling 6075 fits\n"
     ]
    },
    {
     "name": "stderr",
     "output_type": "stream",
     "text": [
      "[Parallel(n_jobs=-1)]: Using backend LokyBackend with 12 concurrent workers.\n",
      "[Parallel(n_jobs=-1)]: Done  48 tasks      | elapsed:    9.3s\n",
      "[Parallel(n_jobs=-1)]: Done 138 tasks      | elapsed:   24.4s\n",
      "[Parallel(n_jobs=-1)]: Done 264 tasks      | elapsed:   47.9s\n",
      "[Parallel(n_jobs=-1)]: Done 426 tasks      | elapsed:  1.4min\n",
      "[Parallel(n_jobs=-1)]: Done 624 tasks      | elapsed:  2.0min\n",
      "[Parallel(n_jobs=-1)]: Done 858 tasks      | elapsed:  2.9min\n",
      "[Parallel(n_jobs=-1)]: Done 1128 tasks      | elapsed:  3.9min\n",
      "[Parallel(n_jobs=-1)]: Done 1434 tasks      | elapsed:  4.9min\n",
      "[Parallel(n_jobs=-1)]: Done 1776 tasks      | elapsed:  6.4min\n",
      "[Parallel(n_jobs=-1)]: Done 2154 tasks      | elapsed:  7.9min\n",
      "[Parallel(n_jobs=-1)]: Done 2568 tasks      | elapsed:  9.7min\n",
      "[Parallel(n_jobs=-1)]: Done 3018 tasks      | elapsed: 11.6min\n",
      "[Parallel(n_jobs=-1)]: Done 3504 tasks      | elapsed: 13.6min\n",
      "[Parallel(n_jobs=-1)]: Done 4026 tasks      | elapsed: 15.8min\n",
      "[Parallel(n_jobs=-1)]: Done 4584 tasks      | elapsed: 18.2min\n",
      "[Parallel(n_jobs=-1)]: Done 5178 tasks      | elapsed: 21.0min\n",
      "[Parallel(n_jobs=-1)]: Done 5808 tasks      | elapsed: 23.6min\n",
      "[Parallel(n_jobs=-1)]: Done 6075 out of 6075 | elapsed: 24.7min finished\n"
     ]
    },
    {
     "name": "stdout",
     "output_type": "stream",
     "text": [
      "Best score for two layer ANN 0.9755546580098092\n",
      "Best parameters for two layer ANN {'activation': 'relu', 'alpha': 5e-05, 'early_stopping': True, 'hidden_layer_sizes': (6, 8), 'learning_rate': 'constant', 'learning_rate_init': 0.01, 'max_iter': 500, 'solver': 'adam'}\n",
      "Two layer Neural Network MAE = 119.34492701745616\n"
     ]
    }
   ],
   "source": [
    "## Generating two layer grid-search model to find best parameters. Calculating best parameters, loss and \n",
    "## training the model on train data with calculated the best parameters\n",
    "two_layer = []\n",
    "for i in range(1,10):\n",
    "    for j in range(1,10):\n",
    "        two_layer.append((i,j))\n",
    "\n",
    "parameter_space = { \"hidden_layer_sizes\": two_layer, \n",
    "                   \"activation\": [\"relu\"], \n",
    "                   \"solver\": [\"adam\"],\n",
    "                   \"alpha\": [0.00005, 0.0005, 0.005, 0.05, 0.5],\n",
    "                   \"learning_rate\": [\"constant\"],\n",
    "                   \"max_iter\": [500],\n",
    "                   \"learning_rate_init\": [0.00001, 0.0001, 0.001, 0.01, 0.1],\n",
    "                   \"early_stopping\":[True]\n",
    "                  }\n",
    "grid = GridSearchCV(MLPRegressor(random_state=3), parameter_space, verbose = 5, cv = 3, n_jobs=-1)\n",
    "grid.fit(X_train, y_train)\n",
    "\n",
    "print(\"Best score for two layer ANN\", grid.best_score_)\n",
    "print(\"Best parameters for two layer ANN\", grid.best_params_)\n",
    "\n",
    "two_layer_mlp = MLPRegressor(**grid.best_params_)\n",
    "two_layer_mlp.fit(X_train, y_train)\n",
    "print(\"Two layer Neural Network MAE =\", two_layer_mlp.loss_)\n",
    "two_layer_train_loss = two_layer_mlp.loss_\n",
    "y_pred = two_layer_mlp.predict(X_test)"
   ]
  },
  {
   "cell_type": "code",
   "execution_count": 12,
   "metadata": {},
   "outputs": [
    {
     "name": "stdout",
     "output_type": "stream",
     "text": [
      "SSE for two layer ANN 77532.39566342026\n"
     ]
    }
   ],
   "source": [
    "## Calculated SSE for two layer ANN.\n",
    "two_layer_best_score = grid.best_score_\n",
    "two_layer_error = np.sum((y_pred - y_test)**2)\n",
    "print(\"SSE for two layer ANN\", two_layer_error)"
   ]
  },
  {
   "cell_type": "code",
   "execution_count": 13,
   "metadata": {},
   "outputs": [
    {
     "name": "stdout",
     "output_type": "stream",
     "text": [
      "Fitting 3 folds for each of 18225 candidates, totalling 54675 fits\n"
     ]
    },
    {
     "name": "stderr",
     "output_type": "stream",
     "text": [
      "[Parallel(n_jobs=-1)]: Using backend LokyBackend with 12 concurrent workers.\n",
      "[Parallel(n_jobs=-1)]: Done  48 tasks      | elapsed:   10.4s\n",
      "[Parallel(n_jobs=-1)]: Done 138 tasks      | elapsed:   30.0s\n",
      "[Parallel(n_jobs=-1)]: Done 264 tasks      | elapsed:   59.5s\n",
      "[Parallel(n_jobs=-1)]: Done 426 tasks      | elapsed:  1.6min\n",
      "[Parallel(n_jobs=-1)]: Done 624 tasks      | elapsed:  2.3min\n",
      "[Parallel(n_jobs=-1)]: Done 858 tasks      | elapsed:  3.1min\n",
      "[Parallel(n_jobs=-1)]: Done 1128 tasks      | elapsed:  4.2min\n",
      "[Parallel(n_jobs=-1)]: Done 1434 tasks      | elapsed:  5.4min\n",
      "[Parallel(n_jobs=-1)]: Done 1776 tasks      | elapsed:  6.6min\n",
      "[Parallel(n_jobs=-1)]: Done 2154 tasks      | elapsed:  8.1min\n",
      "[Parallel(n_jobs=-1)]: Done 2568 tasks      | elapsed:  9.7min\n",
      "[Parallel(n_jobs=-1)]: Done 3018 tasks      | elapsed: 11.6min\n",
      "[Parallel(n_jobs=-1)]: Done 3504 tasks      | elapsed: 13.5min\n",
      "[Parallel(n_jobs=-1)]: Done 4026 tasks      | elapsed: 15.6min\n",
      "[Parallel(n_jobs=-1)]: Done 4584 tasks      | elapsed: 17.9min\n",
      "[Parallel(n_jobs=-1)]: Done 5178 tasks      | elapsed: 20.3min\n",
      "[Parallel(n_jobs=-1)]: Done 5808 tasks      | elapsed: 22.7min\n",
      "[Parallel(n_jobs=-1)]: Done 6474 tasks      | elapsed: 25.2min\n",
      "[Parallel(n_jobs=-1)]: Done 7176 tasks      | elapsed: 27.8min\n",
      "[Parallel(n_jobs=-1)]: Done 7914 tasks      | elapsed: 30.7min\n",
      "[Parallel(n_jobs=-1)]: Done 8688 tasks      | elapsed: 33.9min\n",
      "[Parallel(n_jobs=-1)]: Done 9498 tasks      | elapsed: 37.2min\n",
      "[Parallel(n_jobs=-1)]: Done 10344 tasks      | elapsed: 40.6min\n",
      "[Parallel(n_jobs=-1)]: Done 11226 tasks      | elapsed: 44.2min\n",
      "[Parallel(n_jobs=-1)]: Done 12144 tasks      | elapsed: 47.3min\n",
      "[Parallel(n_jobs=-1)]: Done 13098 tasks      | elapsed: 50.5min\n",
      "[Parallel(n_jobs=-1)]: Done 14088 tasks      | elapsed: 54.5min\n",
      "[Parallel(n_jobs=-1)]: Done 15114 tasks      | elapsed: 58.6min\n",
      "[Parallel(n_jobs=-1)]: Done 16176 tasks      | elapsed: 63.8min\n",
      "[Parallel(n_jobs=-1)]: Done 17274 tasks      | elapsed: 68.9min\n",
      "[Parallel(n_jobs=-1)]: Done 18408 tasks      | elapsed: 74.2min\n",
      "[Parallel(n_jobs=-1)]: Done 19578 tasks      | elapsed: 79.0min\n",
      "[Parallel(n_jobs=-1)]: Done 20784 tasks      | elapsed: 84.1min\n",
      "[Parallel(n_jobs=-1)]: Done 22026 tasks      | elapsed: 90.1min\n",
      "[Parallel(n_jobs=-1)]: Done 23304 tasks      | elapsed: 95.3min\n",
      "[Parallel(n_jobs=-1)]: Done 24618 tasks      | elapsed: 100.8min\n",
      "[Parallel(n_jobs=-1)]: Done 25968 tasks      | elapsed: 106.0min\n",
      "[Parallel(n_jobs=-1)]: Done 27354 tasks      | elapsed: 111.1min\n",
      "[Parallel(n_jobs=-1)]: Done 28776 tasks      | elapsed: 116.2min\n",
      "[Parallel(n_jobs=-1)]: Done 30234 tasks      | elapsed: 121.2min\n",
      "[Parallel(n_jobs=-1)]: Done 31728 tasks      | elapsed: 126.5min\n",
      "[Parallel(n_jobs=-1)]: Done 33258 tasks      | elapsed: 132.3min\n",
      "[Parallel(n_jobs=-1)]: Done 34824 tasks      | elapsed: 137.7min\n",
      "[Parallel(n_jobs=-1)]: Done 36426 tasks      | elapsed: 143.7min\n",
      "[Parallel(n_jobs=-1)]: Done 38064 tasks      | elapsed: 149.7min\n",
      "[Parallel(n_jobs=-1)]: Done 39738 tasks      | elapsed: 155.7min\n",
      "[Parallel(n_jobs=-1)]: Done 41448 tasks      | elapsed: 161.6min\n",
      "[Parallel(n_jobs=-1)]: Done 43194 tasks      | elapsed: 168.1min\n",
      "[Parallel(n_jobs=-1)]: Done 44976 tasks      | elapsed: 174.7min\n",
      "[Parallel(n_jobs=-1)]: Done 46794 tasks      | elapsed: 181.1min\n",
      "[Parallel(n_jobs=-1)]: Done 48648 tasks      | elapsed: 188.1min\n",
      "[Parallel(n_jobs=-1)]: Done 50538 tasks      | elapsed: 194.7min\n",
      "[Parallel(n_jobs=-1)]: Done 52464 tasks      | elapsed: 201.3min\n",
      "[Parallel(n_jobs=-1)]: Done 54426 tasks      | elapsed: 208.6min\n",
      "[Parallel(n_jobs=-1)]: Done 54675 out of 54675 | elapsed: 209.5min finished\n"
     ]
    },
    {
     "name": "stdout",
     "output_type": "stream",
     "text": [
      "Best score for three layer ANN 0.977937255000097\n",
      "Best parameters for three layer ANN {'activation': 'relu', 'alpha': 0.0005, 'early_stopping': True, 'hidden_layer_sizes': (8, 5, 5), 'learning_rate': 'constant', 'learning_rate_init': 0.01, 'max_iter': 500, 'solver': 'adam'}\n",
      "Three layer Neural Network MAE = 111.59565488123778\n"
     ]
    }
   ],
   "source": [
    "## Generating three layer grid-search model to find best parameters. Calculating best parameters, loss and \n",
    "## training the model on train data with calculated the best parameters\n",
    "three_layer = []\n",
    "for i in range(1,10):\n",
    "    for j in range(1,10):\n",
    "        for k in range(1,10):\n",
    "            three_layer.append((i,j,k))\n",
    "\n",
    "parameter_space = { \"hidden_layer_sizes\": three_layer, \n",
    "                   \"activation\": [\"relu\"], \n",
    "                   \"solver\": [\"adam\"],\n",
    "                   \"alpha\": [0.00005, 0.0005, 0.005, 0.05, 0.5],\n",
    "                   \"learning_rate\": [\"constant\"],\n",
    "                   \"max_iter\": [500],\n",
    "                   \"learning_rate_init\": [0.00001, 0.0001, 0.001, 0.01, 0.1],\n",
    "                   \"early_stopping\":[True]\n",
    "                  }\n",
    "grid = GridSearchCV(MLPRegressor(random_state=3), parameter_space, verbose = 5, cv = 3, n_jobs=-1)\n",
    "grid.fit(X_train, y_train)\n",
    "\n",
    "print(\"Best score for three layer ANN\", grid.best_score_)\n",
    "print(\"Best parameters for three layer ANN\", grid.best_params_)\n",
    "\n",
    "three_layer_mlp = MLPRegressor(**grid.best_params_)\n",
    "three_layer_mlp.fit(X_train, y_train)\n",
    "print(\"Three layer Neural Network MAE =\", three_layer_mlp.loss_)\n",
    "three_layer_train_loss = three_layer_mlp.loss_\n",
    "y_pred = three_layer_mlp.predict(X_test)"
   ]
  },
  {
   "cell_type": "code",
   "execution_count": 14,
   "metadata": {},
   "outputs": [
    {
     "name": "stdout",
     "output_type": "stream",
     "text": [
      "SSE for two layer ANN 70172.6058433293\n"
     ]
    }
   ],
   "source": [
    "## Calculated SSE for three layer ANN.\n",
    "three_layer_best_score = grid.best_score_\n",
    "three_layer_error = np.sum((y_pred - y_test)**2)\n",
    "print(\"SSE for two layer ANN\", three_layer_error)"
   ]
  },
  {
   "cell_type": "code",
   "execution_count": 15,
   "metadata": {},
   "outputs": [
    {
     "name": "stdout",
     "output_type": "stream",
     "text": [
      "Fitting 3 folds for each of 13122 candidates, totalling 39366 fits\n"
     ]
    },
    {
     "name": "stderr",
     "output_type": "stream",
     "text": [
      "[Parallel(n_jobs=-1)]: Using backend LokyBackend with 12 concurrent workers.\n",
      "[Parallel(n_jobs=-1)]: Done  48 tasks      | elapsed:   17.6s\n",
      "[Parallel(n_jobs=-1)]: Done 138 tasks      | elapsed:   36.2s\n",
      "[Parallel(n_jobs=-1)]: Done 264 tasks      | elapsed:  1.0min\n",
      "[Parallel(n_jobs=-1)]: Done 426 tasks      | elapsed:  1.6min\n",
      "[Parallel(n_jobs=-1)]: Done 624 tasks      | elapsed:  2.3min\n",
      "[Parallel(n_jobs=-1)]: Done 858 tasks      | elapsed:  3.3min\n",
      "[Parallel(n_jobs=-1)]: Done 1128 tasks      | elapsed:  4.6min\n",
      "[Parallel(n_jobs=-1)]: Done 1434 tasks      | elapsed:  6.1min\n",
      "[Parallel(n_jobs=-1)]: Done 1776 tasks      | elapsed:  8.1min\n",
      "[Parallel(n_jobs=-1)]: Done 2154 tasks      | elapsed: 10.3min\n",
      "[Parallel(n_jobs=-1)]: Done 2568 tasks      | elapsed: 12.1min\n",
      "[Parallel(n_jobs=-1)]: Done 3018 tasks      | elapsed: 14.4min\n",
      "[Parallel(n_jobs=-1)]: Done 3504 tasks      | elapsed: 16.5min\n",
      "[Parallel(n_jobs=-1)]: Done 4026 tasks      | elapsed: 19.2min\n",
      "[Parallel(n_jobs=-1)]: Done 4584 tasks      | elapsed: 21.6min\n",
      "[Parallel(n_jobs=-1)]: Done 5178 tasks      | elapsed: 24.5min\n",
      "[Parallel(n_jobs=-1)]: Done 5808 tasks      | elapsed: 27.7min\n",
      "[Parallel(n_jobs=-1)]: Done 6474 tasks      | elapsed: 31.0min\n",
      "[Parallel(n_jobs=-1)]: Done 7176 tasks      | elapsed: 34.1min\n",
      "[Parallel(n_jobs=-1)]: Done 7914 tasks      | elapsed: 37.3min\n",
      "[Parallel(n_jobs=-1)]: Done 8688 tasks      | elapsed: 40.5min\n",
      "[Parallel(n_jobs=-1)]: Done 9498 tasks      | elapsed: 43.9min\n",
      "[Parallel(n_jobs=-1)]: Done 10344 tasks      | elapsed: 47.7min\n",
      "[Parallel(n_jobs=-1)]: Done 11226 tasks      | elapsed: 51.5min\n",
      "[Parallel(n_jobs=-1)]: Done 12144 tasks      | elapsed: 55.3min\n",
      "[Parallel(n_jobs=-1)]: Done 13098 tasks      | elapsed: 59.5min\n",
      "[Parallel(n_jobs=-1)]: Done 14088 tasks      | elapsed: 63.8min\n",
      "[Parallel(n_jobs=-1)]: Done 15114 tasks      | elapsed: 68.6min\n",
      "[Parallel(n_jobs=-1)]: Done 16176 tasks      | elapsed: 73.1min\n",
      "[Parallel(n_jobs=-1)]: Done 17274 tasks      | elapsed: 78.3min\n",
      "[Parallel(n_jobs=-1)]: Done 18408 tasks      | elapsed: 82.6min\n",
      "[Parallel(n_jobs=-1)]: Done 19578 tasks      | elapsed: 87.4min\n",
      "[Parallel(n_jobs=-1)]: Done 20784 tasks      | elapsed: 92.4min\n",
      "[Parallel(n_jobs=-1)]: Done 22026 tasks      | elapsed: 98.9min\n",
      "[Parallel(n_jobs=-1)]: Done 23304 tasks      | elapsed: 104.9min\n",
      "[Parallel(n_jobs=-1)]: Done 24618 tasks      | elapsed: 111.0min\n",
      "[Parallel(n_jobs=-1)]: Done 25968 tasks      | elapsed: 117.6min\n",
      "[Parallel(n_jobs=-1)]: Done 27354 tasks      | elapsed: 124.0min\n",
      "[Parallel(n_jobs=-1)]: Done 28776 tasks      | elapsed: 130.3min\n",
      "[Parallel(n_jobs=-1)]: Done 30234 tasks      | elapsed: 136.4min\n",
      "[Parallel(n_jobs=-1)]: Done 31728 tasks      | elapsed: 142.8min\n",
      "[Parallel(n_jobs=-1)]: Done 33258 tasks      | elapsed: 149.4min\n",
      "[Parallel(n_jobs=-1)]: Done 34824 tasks      | elapsed: 156.4min\n",
      "[Parallel(n_jobs=-1)]: Done 36426 tasks      | elapsed: 163.1min\n",
      "[Parallel(n_jobs=-1)]: Done 38064 tasks      | elapsed: 170.4min\n",
      "[Parallel(n_jobs=-1)]: Done 39366 out of 39366 | elapsed: 177.2min finished\n"
     ]
    },
    {
     "name": "stdout",
     "output_type": "stream",
     "text": [
      "Best score for four layer ANN 0.9776153129459398\n",
      "Best parameters for four layer ANN {'activation': 'relu', 'alpha': 0.0005, 'early_stopping': True, 'hidden_layer_sizes': (8, 9, 5, 7), 'learning_rate': 'constant', 'learning_rate_init': 0.01, 'max_iter': 500, 'solver': 'adam'}\n",
      "Four layer Neural Network MAE = 117.4353353074388\n"
     ]
    }
   ],
   "source": [
    "## Generating four layer grid-search model to find best parameters. Calculating best parameters, loss and \n",
    "## training the model on train data with calculated the best parameters\n",
    "four_layer = []\n",
    "for i in range(1,10):\n",
    "    for j in range(1,10):\n",
    "        for k in range(1,10):\n",
    "            for l in range(1,10):\n",
    "                four_layer.append((i,j,k,l))\n",
    "\n",
    "parameter_space = { \"hidden_layer_sizes\": four_layer, \n",
    "                   \"activation\": [\"relu\"], \n",
    "                   \"solver\": [\"adam\"],\n",
    "                   \"alpha\": [0.00005, 0.0005],\n",
    "                   \"learning_rate\": [\"constant\"],\n",
    "                   \"max_iter\": [500],\n",
    "                   \"learning_rate_init\": [0.01],\n",
    "                   \"early_stopping\":[True]\n",
    "                  }\n",
    "grid = GridSearchCV(MLPRegressor(random_state=3), parameter_space, verbose = 5, cv = 3, n_jobs=-1)\n",
    "grid.fit(X_train, y_train)\n",
    "\n",
    "print(\"Best score for four layer ANN\", grid.best_score_)\n",
    "print(\"Best parameters for four layer ANN\", grid.best_params_)\n",
    "\n",
    "four_layer_mlp = MLPRegressor(**grid.best_params_)\n",
    "four_layer_mlp.fit(X_train, y_train)\n",
    "print(\"Four layer Neural Network MAE =\", four_layer_mlp.loss_)\n",
    "four_layer_train_loss = four_layer_mlp.loss_\n",
    "y_pred = four_layer_mlp.predict(X_test)"
   ]
  },
  {
   "cell_type": "code",
   "execution_count": 53,
   "metadata": {},
   "outputs": [
    {
     "name": "stdout",
     "output_type": "stream",
     "text": [
      "SSE for two layer ANN 68589.91037625851\n"
     ]
    }
   ],
   "source": [
    "## Calculated SSE for four layer ANN.\n",
    "four_layer_best_score = grid.best_score_\n",
    "four_layer_error = np.sum((y_pred - y_test)**2)\n",
    "print(\"SSE for two layer ANN\", four_layer_error)"
   ]
  },
  {
   "cell_type": "code",
   "execution_count": 17,
   "metadata": {},
   "outputs": [
    {
     "data": {
      "image/png": "[encoded data removed]",
      "text/plain": [
       "<Figure size 432x288 with 1 Axes>"
      ]
     },
     "metadata": {
      "needs_background": "light"
     },
     "output_type": "display_data"
    }
   ],
   "source": [
    "## Plotting loss vs Number of layers.\n",
    "plt.plot([1 ,2 ,3,4], [single_layer_train_loss, two_layer_train_loss, three_layer_train_loss, four_layer_train_loss])\n",
    "plt.xlabel('Number of Layers')\n",
    "plt.ylabel(\"MAE loss calculated\")\n",
    "plt.show()"
   ]
  },
  {
   "cell_type": "code",
   "execution_count": 18,
   "metadata": {},
   "outputs": [
    {
     "data": {
      "image/png": "[encoded data removed]",
      "text/plain": [
       "<Figure size 432x288 with 1 Axes>"
      ]
     },
     "metadata": {
      "needs_background": "light"
     },
     "output_type": "display_data"
    }
   ],
   "source": [
    "## Plotting error test vs Number of layers.\n",
    "plt.plot([1 ,2 ,3,4], [single_layer_error, two_layer_error, three_layer_error, four_layer_error])\n",
    "plt.xlabel('Number of Layers')\n",
    "plt.ylabel(\"Error on Test\")\n",
    "plt.show()"
   ]
  },
  {
   "cell_type": "code",
   "execution_count": 19,
   "metadata": {},
   "outputs": [
    {
     "data": {
      "image/png": "[encoded data removed]",
      "text/plain": [
       "<Figure size 432x288 with 1 Axes>"
      ]
     },
     "metadata": {
      "needs_background": "light"
     },
     "output_type": "display_data"
    }
   ],
   "source": [
    "## Plotting best scores vs Number of layers.\n",
    "plt.plot([1 ,2 ,3,4], [single_layer_best_score, two_layer_best_score, three_layer_best_score, four_layer_best_score])\n",
    "plt.xlabel('Number of Layers')\n",
    "plt.ylabel(\"Model best score\")\n",
    "plt.show()"
   ]
  },
  {
   "cell_type": "markdown",
   "metadata": {},
   "source": [
    "I have set a range of learning rate in (0.00001, 0.0001, 0.001, 0.01, 0.1) where are for regularization parameter (0.00005, 0.0005, 0.005, 0.05, 0.5) keeping maximum iterations to 500 and default batch number sizes for one, two and three layer neural network. For four layer neural network I have narrowed the learning rate to 0.01 and regularization parameter to (0.00005, 0.0005) by observing the results obtained in single, two and three layer networks. I have calculated the best score(not the accuracy), mean absolute error calculated on train data and SSE on the test data for each layered neural network. I have plotted all the obtained results with respect to the number of layers in the neural network as shown above. From the above graphs we can see that the model starts overfitting once we move from three layer neural network to a four layer neural network also three layer model has highest best score among the others. Thus we will be choosing a three layer neural network with parameters calculated using the GrisearchCV. "
   ]
  },
  {
   "cell_type": "code",
   "execution_count": 56,
   "metadata": {},
   "outputs": [],
   "source": [
    "## Generating linear regression model.\n",
    "import statsmodels.api as sm\n",
    "x_reg, y_reg = X_train, y_train\n",
    "x_reg_test, y_reg_test = X_test, y_test\n",
    "x_reg = sm.add_constant(x_reg)\n",
    "model = sm.OLS(y_reg, x_reg).fit()\n",
    "y_pred_reg = model.predict(x_reg)"
   ]
  },
  {
   "cell_type": "code",
   "execution_count": 57,
   "metadata": {},
   "outputs": [
    {
     "name": "stdout",
     "output_type": "stream",
     "text": [
      "SSE for linear regression model 160777.321576731\n"
     ]
    }
   ],
   "source": [
    "## Calculating SSE for the linear regression model.\n",
    "regression_error_train = np.sum((np.array(y_pred_reg) - y_reg)**2)\n",
    "print(\"SSE for linear regression model\", regression_error_train)"
   ]
  },
  {
   "cell_type": "markdown",
   "metadata": {},
   "source": [
    "From the above model we can see that for the best ann model the SSE error on the data is 68589.91037625851 where as for the for the regression model the SSE error is 160777.321576731 thus from the results we can see that that the Neural network model is much more accurate than the linear regression model. Thus we can conclude from the result that the a well designed ANN model works better than the linear regression model."
   ]
  }
 ],
 "metadata": {
  "kernelspec": {
   "display_name": "Python 3",
   "language": "python",
   "name": "python3"
  },
  "language_info": {
   "codemirror_mode": {
    "name": "ipython",
    "version": 3
   },
   "file_extension": ".py",
   "mimetype": "text/x-python",
   "name": "python",
   "nbconvert_exporter": "python",
   "pygments_lexer": "ipython3",
   "version": "3.7.4"
  }
 },
 "nbformat": 4,
 "nbformat_minor": 4
}
